{
 "cells": [
  {
   "cell_type": "code",
   "execution_count": 1,
   "metadata": {},
   "outputs": [],
   "source": [
    "import pygmt\n",
    "import matplotlib.pyplot as plt\n",
    "\n",
    "import xarray as xr\n",
    "import pandas as pd\n",
    "import numpy as np\n",
    "import cmocean"
   ]
  },
  {
   "cell_type": "code",
   "execution_count": 2,
   "metadata": {},
   "outputs": [],
   "source": [
    "adcp = xr.open_dataset('adcp_lta_cruise1.nc')"
   ]
  },
  {
   "cell_type": "code",
   "execution_count": 3,
   "metadata": {},
   "outputs": [],
   "source": [
    "lon_ctd = [-71.8395,-71.6495]\n",
    "lat_ctd = [41.2973,41.13916]"
   ]
  },
  {
   "cell_type": "code",
   "execution_count": 4,
   "metadata": {},
   "outputs": [
    {
     "data": {
      "text/plain": [
       "<matplotlib.quiver.Quiver at 0x7f968998f310>"
      ]
     },
     "execution_count": 4,
     "metadata": {},
     "output_type": "execute_result"
    },
    {
     "data": {
      "image/png": "[encoded data removed]",
      "text/plain": [
       "<Figure size 432x288 with 1 Axes>"
      ]
     },
     "metadata": {
      "needs_background": "light"
     },
     "output_type": "display_data"
    }
   ],
   "source": [
    "# We want something like this, but neater\n",
    "plt.quiver(adcp.lon,adcp.lat,adcp.u[:,0],adcp.v[:,0])"
   ]
  },
  {
   "cell_type": "code",
   "execution_count": 17,
   "metadata": {},
   "outputs": [],
   "source": [
    "# Let's use GMT\n",
    "topo_data = '@earth_relief_30s'\n",
    "proj = 'M8i'\n",
    "extent = [-72.55,-71.2,41.0,41.4]"
   ]
  },
  {
   "cell_type": "code",
   "execution_count": 18,
   "metadata": {},
   "outputs": [
    {
     "name": "stderr",
     "output_type": "stream",
     "text": [
      "plot [WARNING]: Vector length = NaN near line 1. Skipped\n"
     ]
    }
   ],
   "source": [
    "fig = pygmt.Figure()\n",
    "\n",
    "pygmt.makecpt(\n",
    "    cmap='bathy',\n",
    "    series='-120/-10/10',\n",
    "    continuous=True\n",
    ")\n",
    "\n",
    "#plot high res topography\n",
    "fig.grdimage(\n",
    "    grid=topo_data,\n",
    "    region=extent,\n",
    "    projection=proj,\n",
    "    shading=True,\n",
    "    frame=\"ag\"\n",
    "    )\n",
    "\n",
    "fig.grdcontour(\n",
    "    grid=topo_data,\n",
    "    interval=10,\n",
    "    annotation=\"10+f6p\",\n",
    "    limit=\"-80/-10\",\n",
    "    pen=\"a0.15p\",\n",
    "    )\n",
    "\n",
    "fig.plot(\n",
    "    x=lon_ctd,\n",
    "    y=lat_ctd,\n",
    "    style='c0.25c',\n",
    "    color='mediumpurple3',\n",
    "    pen='black',\n",
    "    )\n",
    "\n",
    "# Note: style=v requires \n",
    "#       angle and length in direction\n",
    "u,v = adcp.u[:,0],adcp.v[:,0]\n",
    "angle  = np.arctan2(v,u)*180/np.pi\n",
    "length = np.sqrt(u**2 + v**2) \n",
    "\n",
    "fig.plot(\n",
    "    x=adcp.lon,\n",
    "    y=adcp.lat,\n",
    "    style='v0.05/0.2/0.025i',  \n",
    "    direction=[angle,length],\n",
    "    color='red',\n",
    "    )\n",
    "\n",
    "fig.coast(\n",
    "    shorelines=True,\n",
    "    resolution='f',land='black')\n",
    "\n",
    "# Legends and text\n",
    "fig.plot(\n",
    "    x=[-72.45],\n",
    "    y=[41.35],\n",
    "    style='v0.05/0.2/0.025i',  \n",
    "    direction=[[0.],[1.0]],\n",
    "    color='red',\n",
    "    )\n",
    "\n",
    "\n",
    "fig.text(\n",
    "    x=[-72.43],\n",
    "    y=[41.365],\n",
    "    text='1.0 m/s',  \n",
    "    font='9p,Helvetica-Bold,red',\n",
    "    )\n",
    "\n",
    "fig.text(\n",
    "    x=[-72.425],\n",
    "    y=[41.385],\n",
    "    text='ADCP 5 m',  \n",
    "    font='9p,Helvetica,red',\n",
    "    )\n",
    "\n",
    "fig.text(\n",
    "    x=[-72.05],\n",
    "    y=[41.345],\n",
    "    text='Avery Point',  \n",
    "    font='7p,Helvetica-Bold,white',\n",
    "    angle=60,\n",
    "    )\n",
    "\n",
    "fig.text(\n",
    "    x=[-71.98],\n",
    "    y=[41.271],\n",
    "    text=\"Fishers Island\",  \n",
    "    font='7p,Helvetica-Bold,white',\n",
    "    angle=20,\n",
    "    )\n",
    "\n",
    "fig.text(\n",
    "    x=[-71.58],\n",
    "    y=[41.175],\n",
    "    text='Block ',  \n",
    "    font='7p,Helvetica-Bold,white',\n",
    "    angle=0,\n",
    "    )\n",
    "\n",
    "fig.text(\n",
    "    x=[-71.58],\n",
    "    y=[41.1617],\n",
    "    text='Island ',  \n",
    "    font='7p,Helvetica-Bold,white',\n",
    "    angle=0,\n",
    "    )\n",
    "\n",
    "fig.show()\n",
    "\n",
    "fig.savefig(\"OceanExpedition_cruise1.pdf\",dpi=150)"
   ]
  },
  {
   "cell_type": "code",
   "execution_count": 19,
   "metadata": {},
   "outputs": [],
   "source": [
    "!open OceanExpedition_cruise1.pdf"
   ]
  },
  {
   "cell_type": "code",
   "execution_count": null,
   "metadata": {},
   "outputs": [],
   "source": []
  }
 ],
 "metadata": {
  "kernelspec": {
   "display_name": "Python 3",
   "language": "python",
   "name": "python3"
  },
  "language_info": {
   "codemirror_mode": {
    "name": "ipython",
    "version": 3
   },
   "file_extension": ".py",
   "mimetype": "text/x-python",
   "name": "python",
   "nbconvert_exporter": "python",
   "pygments_lexer": "ipython3",
   "version": "3.8.3"
  }
 },
 "nbformat": 4,
 "nbformat_minor": 4
}
